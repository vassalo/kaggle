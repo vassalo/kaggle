{
 "cells": [
  {
   "cell_type": "code",
   "execution_count": 17,
   "metadata": {},
   "outputs": [],
   "source": [
    "import numpy as np\n",
    "import tensorflow as tf\n",
    "import pandas as pd\n",
    "\n",
    "from keras import layers, models, optimizers, applications\n",
    "from keras.preprocessing.image import load_img, img_to_array, ImageDataGenerator\n",
    "\n",
    "from sklearn.linear_model import LogisticRegression\n",
    "from sklearn import metrics\n",
    "\n",
    "import os"
   ]
  },
  {
   "cell_type": "code",
   "execution_count": 24,
   "metadata": {},
   "outputs": [
    {
     "name": "stderr",
     "output_type": "stream",
     "text": [
      "C:\\Users\\danie\\Anaconda3\\envs\\tensorflow\\lib\\site-packages\\sklearn\\linear_model\\logistic.py:947: ConvergenceWarning: lbfgs failed to converge. Increase the number of iterations.\n",
      "  \"of iterations.\", ConvergenceWarning)\n"
     ]
    },
    {
     "name": "stdout",
     "output_type": "stream",
     "text": [
      "[1 0 0 ... 1 0 0]\n"
     ]
    }
   ],
   "source": [
    "width = 150\n",
    "height = 150\n",
    "\n",
    "TRAIN_FOLDER_PATH = \"data/train\"\n",
    "TEST_FOLDER_PATH = \"data/test1\"\n",
    "TRAIN_FILE_NAMES = os.listdir(TRAIN_FOLDER_PATH)\n",
    "TEST_FILE_NAMES = os.listdir(TEST_FOLDER_PATH)\n",
    "\n",
    "x_train_paths = []\n",
    "y_train = []\n",
    "for file in TRAIN_FILE_NAMES:\n",
    "    full_path = os.path.join(TRAIN_FOLDER_PATH, file)\n",
    "    x_train_paths.append(full_path)\n",
    "    \n",
    "    y_train.append(int(file.split(\".\")[0] == \"dog\"))\n",
    "\n",
    "x_test_paths = []\n",
    "for file in TEST_FILE_NAMES:\n",
    "    full_path = os.path.join(TEST_FOLDER_PATH, file)\n",
    "    x_test_paths.append(full_path)\n",
    "\n",
    "\n",
    "model=applications.VGG16(weights=\"imagenet\", include_top=False, input_shape=(width, height, 3))\n",
    "# model.summary()\n",
    "\n",
    "# extract features\n",
    "def get_features(paths):\n",
    "    features = []\n",
    "    for file in paths:\n",
    "        img = load_img(file, target_size=(width, height))\n",
    "        img = img_to_array(img)\n",
    "        img = np.expand_dims(img, axis=0)\n",
    "        feature = model.predict(img)\n",
    "        features.append(feature)\n",
    "    features = np.array(features)\n",
    "    return features.reshape(features.shape[0], 4*4*512)\n",
    "\n",
    "\n",
    "x_train = get_features(x_train_paths)\n",
    "x_test = get_features(x_test_paths)\n",
    "clf=LogisticRegression(solver=\"lbfgs\")\n",
    "clf.fit(x_train, y_train)\n",
    "predictions=clf.predict(x_test)\n",
    "print(predictions)\n",
    "\n",
    "# predictions = np.argmax(model.predict(test), axis=1)\n",
    "predictions = pd.DataFrame(data=[[i + 1, predictions[i]] for i in range(len(predictions))],\n",
    "                           columns=['id', 'label'])\n",
    "\n",
    "predictions.to_csv('data/guess.csv', index=False)"
   ]
  },
  {
   "cell_type": "code",
   "execution_count": null,
   "metadata": {},
   "outputs": [],
   "source": []
  }
 ],
 "metadata": {
  "kernelspec": {
   "display_name": "Python 3",
   "language": "python",
   "name": "python3"
  },
  "language_info": {
   "codemirror_mode": {
    "name": "ipython",
    "version": 3
   },
   "file_extension": ".py",
   "mimetype": "text/x-python",
   "name": "python",
   "nbconvert_exporter": "python",
   "pygments_lexer": "ipython3",
   "version": "3.7.3"
  }
 },
 "nbformat": 4,
 "nbformat_minor": 2
}
