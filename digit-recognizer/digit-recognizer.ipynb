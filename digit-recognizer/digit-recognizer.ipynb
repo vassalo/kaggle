{
 "cells": [
  {
   "cell_type": "code",
   "execution_count": 16,
   "metadata": {},
   "outputs": [],
   "source": [
    "import pandas as pd\n",
    "import numpy as np\n",
    "import matplotlib.pyplot as plt\n",
    "import matplotlib.image as mpimg\n",
    "import seaborn as sns\n",
    "%matplotlib inline\n",
    "\n",
    "np.random.seed(2)\n",
    "\n",
    "from sklearn.model_selection import train_test_split\n",
    "from sklearn.metrics import confusion_matrix\n",
    "import itertools\n",
    "\n",
    "from keras.utils.np_utils import to_categorical # convert to one-hot-encoding\n",
    "from keras.models import Sequential\n",
    "from keras.layers import Dense, Dropout, Flatten, Conv2D, MaxPool2D\n",
    "from keras.optimizers import RMSprop\n",
    "from keras.preprocessing.image import ImageDataGenerator\n",
    "from keras.callbacks import ReduceLROnPlateau\n",
    "\n",
    "import tensorflow as tf"
   ]
  },
  {
   "cell_type": "code",
   "execution_count": 17,
   "metadata": {},
   "outputs": [
    {
     "data": {
      "text/plain": [
       "1    4684\n",
       "7    4401\n",
       "3    4351\n",
       "9    4188\n",
       "2    4177\n",
       "6    4137\n",
       "0    4132\n",
       "4    4072\n",
       "8    4063\n",
       "5    3795\n",
       "Name: label, dtype: int64"
      ]
     },
     "execution_count": 17,
     "metadata": {},
     "output_type": "execute_result"
    },
    {
     "data": {
      "image/png": "[encoded data removed]",
      "text/plain": [
       "<Figure size 432x288 with 1 Axes>"
      ]
     },
     "metadata": {
      "needs_background": "light"
     },
     "output_type": "display_data"
    }
   ],
   "source": [
    "import pandas as pd\n",
    "import matplotlib.pyplot as plt\n",
    "\n",
    "import seaborn as sns\n",
    "\n",
    "train = pd.read_csv(\"data/train.csv\")\n",
    "test = pd.read_csv(\"data/test.csv\")\n",
    "\n",
    "Y_train = train[\"label\"]\n",
    "\n",
    "# Drop 'label' column\n",
    "X_train = train.drop(labels=[\"label\"], axis=1)\n",
    "\n",
    "# free some space\n",
    "del train\n",
    "\n",
    "g = sns.countplot(Y_train)\n",
    "\n",
    "Y_train.value_counts()\n"
   ]
  },
  {
   "cell_type": "code",
   "execution_count": 19,
   "metadata": {},
   "outputs": [
    {
     "data": {
      "text/plain": [
       "count       784\n",
       "unique        1\n",
       "top       False\n",
       "freq        784\n",
       "dtype: object"
      ]
     },
     "execution_count": 19,
     "metadata": {},
     "output_type": "execute_result"
    }
   ],
   "source": [
    "X_train.isnull().any().describe()"
   ]
  },
  {
   "cell_type": "code",
   "execution_count": 20,
   "metadata": {},
   "outputs": [
    {
     "data": {
      "text/plain": [
       "count       784\n",
       "unique        1\n",
       "top       False\n",
       "freq        784\n",
       "dtype: object"
      ]
     },
     "execution_count": 20,
     "metadata": {},
     "output_type": "execute_result"
    }
   ],
   "source": [
    "test.isnull().any().describe()"
   ]
  },
  {
   "cell_type": "code",
   "execution_count": 21,
   "metadata": {},
   "outputs": [],
   "source": [
    "# Normalize the data\n",
    "X_train = X_train / 255.0\n",
    "test = test / 255.0"
   ]
  },
  {
   "cell_type": "code",
   "execution_count": 22,
   "metadata": {},
   "outputs": [],
   "source": [
    "X_train = X_train.values.reshape(-1, 28, 28, 1)"
   ]
  },
  {
   "cell_type": "code",
   "execution_count": 23,
   "metadata": {},
   "outputs": [
    {
     "name": "stdout",
     "output_type": "stream",
     "text": [
      "       pixel0  pixel1  pixel2  pixel3  pixel4  pixel5  pixel6  pixel7  pixel8  \\\n",
      "0         0.0     0.0     0.0     0.0     0.0     0.0     0.0     0.0     0.0   \n",
      "1         0.0     0.0     0.0     0.0     0.0     0.0     0.0     0.0     0.0   \n",
      "2         0.0     0.0     0.0     0.0     0.0     0.0     0.0     0.0     0.0   \n",
      "3         0.0     0.0     0.0     0.0     0.0     0.0     0.0     0.0     0.0   \n",
      "4         0.0     0.0     0.0     0.0     0.0     0.0     0.0     0.0     0.0   \n",
      "5         0.0     0.0     0.0     0.0     0.0     0.0     0.0     0.0     0.0   \n",
      "6         0.0     0.0     0.0     0.0     0.0     0.0     0.0     0.0     0.0   \n",
      "7         0.0     0.0     0.0     0.0     0.0     0.0     0.0     0.0     0.0   \n",
      "8         0.0     0.0     0.0     0.0     0.0     0.0     0.0     0.0     0.0   \n",
      "9         0.0     0.0     0.0     0.0     0.0     0.0     0.0     0.0     0.0   \n",
      "10        0.0     0.0     0.0     0.0     0.0     0.0     0.0     0.0     0.0   \n",
      "11        0.0     0.0     0.0     0.0     0.0     0.0     0.0     0.0     0.0   \n",
      "12        0.0     0.0     0.0     0.0     0.0     0.0     0.0     0.0     0.0   \n",
      "13        0.0     0.0     0.0     0.0     0.0     0.0     0.0     0.0     0.0   \n",
      "14        0.0     0.0     0.0     0.0     0.0     0.0     0.0     0.0     0.0   \n",
      "15        0.0     0.0     0.0     0.0     0.0     0.0     0.0     0.0     0.0   \n",
      "16        0.0     0.0     0.0     0.0     0.0     0.0     0.0     0.0     0.0   \n",
      "17        0.0     0.0     0.0     0.0     0.0     0.0     0.0     0.0     0.0   \n",
      "18        0.0     0.0     0.0     0.0     0.0     0.0     0.0     0.0     0.0   \n",
      "19        0.0     0.0     0.0     0.0     0.0     0.0     0.0     0.0     0.0   \n",
      "20        0.0     0.0     0.0     0.0     0.0     0.0     0.0     0.0     0.0   \n",
      "21        0.0     0.0     0.0     0.0     0.0     0.0     0.0     0.0     0.0   \n",
      "22        0.0     0.0     0.0     0.0     0.0     0.0     0.0     0.0     0.0   \n",
      "23        0.0     0.0     0.0     0.0     0.0     0.0     0.0     0.0     0.0   \n",
      "24        0.0     0.0     0.0     0.0     0.0     0.0     0.0     0.0     0.0   \n",
      "25        0.0     0.0     0.0     0.0     0.0     0.0     0.0     0.0     0.0   \n",
      "26        0.0     0.0     0.0     0.0     0.0     0.0     0.0     0.0     0.0   \n",
      "27        0.0     0.0     0.0     0.0     0.0     0.0     0.0     0.0     0.0   \n",
      "28        0.0     0.0     0.0     0.0     0.0     0.0     0.0     0.0     0.0   \n",
      "29        0.0     0.0     0.0     0.0     0.0     0.0     0.0     0.0     0.0   \n",
      "...       ...     ...     ...     ...     ...     ...     ...     ...     ...   \n",
      "27970     0.0     0.0     0.0     0.0     0.0     0.0     0.0     0.0     0.0   \n",
      "27971     0.0     0.0     0.0     0.0     0.0     0.0     0.0     0.0     0.0   \n",
      "27972     0.0     0.0     0.0     0.0     0.0     0.0     0.0     0.0     0.0   \n",
      "27973     0.0     0.0     0.0     0.0     0.0     0.0     0.0     0.0     0.0   \n",
      "27974     0.0     0.0     0.0     0.0     0.0     0.0     0.0     0.0     0.0   \n",
      "27975     0.0     0.0     0.0     0.0     0.0     0.0     0.0     0.0     0.0   \n",
      "27976     0.0     0.0     0.0     0.0     0.0     0.0     0.0     0.0     0.0   \n",
      "27977     0.0     0.0     0.0     0.0     0.0     0.0     0.0     0.0     0.0   \n",
      "27978     0.0     0.0     0.0     0.0     0.0     0.0     0.0     0.0     0.0   \n",
      "27979     0.0     0.0     0.0     0.0     0.0     0.0     0.0     0.0     0.0   \n",
      "27980     0.0     0.0     0.0     0.0     0.0     0.0     0.0     0.0     0.0   \n",
      "27981     0.0     0.0     0.0     0.0     0.0     0.0     0.0     0.0     0.0   \n",
      "27982     0.0     0.0     0.0     0.0     0.0     0.0     0.0     0.0     0.0   \n",
      "27983     0.0     0.0     0.0     0.0     0.0     0.0     0.0     0.0     0.0   \n",
      "27984     0.0     0.0     0.0     0.0     0.0     0.0     0.0     0.0     0.0   \n",
      "27985     0.0     0.0     0.0     0.0     0.0     0.0     0.0     0.0     0.0   \n",
      "27986     0.0     0.0     0.0     0.0     0.0     0.0     0.0     0.0     0.0   \n",
      "27987     0.0     0.0     0.0     0.0     0.0     0.0     0.0     0.0     0.0   \n",
      "27988     0.0     0.0     0.0     0.0     0.0     0.0     0.0     0.0     0.0   \n",
      "27989     0.0     0.0     0.0     0.0     0.0     0.0     0.0     0.0     0.0   \n",
      "27990     0.0     0.0     0.0     0.0     0.0     0.0     0.0     0.0     0.0   \n",
      "27991     0.0     0.0     0.0     0.0     0.0     0.0     0.0     0.0     0.0   \n",
      "27992     0.0     0.0     0.0     0.0     0.0     0.0     0.0     0.0     0.0   \n",
      "27993     0.0     0.0     0.0     0.0     0.0     0.0     0.0     0.0     0.0   \n",
      "27994     0.0     0.0     0.0     0.0     0.0     0.0     0.0     0.0     0.0   \n",
      "27995     0.0     0.0     0.0     0.0     0.0     0.0     0.0     0.0     0.0   \n",
      "27996     0.0     0.0     0.0     0.0     0.0     0.0     0.0     0.0     0.0   \n",
      "27997     0.0     0.0     0.0     0.0     0.0     0.0     0.0     0.0     0.0   \n",
      "27998     0.0     0.0     0.0     0.0     0.0     0.0     0.0     0.0     0.0   \n",
      "27999     0.0     0.0     0.0     0.0     0.0     0.0     0.0     0.0     0.0   \n",
      "\n",
      "       pixel9  ...  pixel774  pixel775  pixel776  pixel777  pixel778  \\\n",
      "0         0.0  ...       0.0       0.0       0.0       0.0       0.0   \n",
      "1         0.0  ...       0.0       0.0       0.0       0.0       0.0   \n",
      "2         0.0  ...       0.0       0.0       0.0       0.0       0.0   \n",
      "3         0.0  ...       0.0       0.0       0.0       0.0       0.0   \n",
      "4         0.0  ...       0.0       0.0       0.0       0.0       0.0   \n",
      "5         0.0  ...       0.0       0.0       0.0       0.0       0.0   \n",
      "6         0.0  ...       0.0       0.0       0.0       0.0       0.0   \n",
      "7         0.0  ...       0.0       0.0       0.0       0.0       0.0   \n",
      "8         0.0  ...       0.0       0.0       0.0       0.0       0.0   \n",
      "9         0.0  ...       0.0       0.0       0.0       0.0       0.0   \n",
      "10        0.0  ...       0.0       0.0       0.0       0.0       0.0   \n",
      "11        0.0  ...       0.0       0.0       0.0       0.0       0.0   \n",
      "12        0.0  ...       0.0       0.0       0.0       0.0       0.0   \n",
      "13        0.0  ...       0.0       0.0       0.0       0.0       0.0   \n",
      "14        0.0  ...       0.0       0.0       0.0       0.0       0.0   \n",
      "15        0.0  ...       0.0       0.0       0.0       0.0       0.0   \n",
      "16        0.0  ...       0.0       0.0       0.0       0.0       0.0   \n",
      "17        0.0  ...       0.0       0.0       0.0       0.0       0.0   \n",
      "18        0.0  ...       0.0       0.0       0.0       0.0       0.0   \n",
      "19        0.0  ...       0.0       0.0       0.0       0.0       0.0   \n",
      "20        0.0  ...       0.0       0.0       0.0       0.0       0.0   \n",
      "21        0.0  ...       0.0       0.0       0.0       0.0       0.0   \n",
      "22        0.0  ...       0.0       0.0       0.0       0.0       0.0   \n",
      "23        0.0  ...       0.0       0.0       0.0       0.0       0.0   \n",
      "24        0.0  ...       0.0       0.0       0.0       0.0       0.0   \n",
      "25        0.0  ...       0.0       0.0       0.0       0.0       0.0   \n",
      "26        0.0  ...       0.0       0.0       0.0       0.0       0.0   \n",
      "27        0.0  ...       0.0       0.0       0.0       0.0       0.0   \n",
      "28        0.0  ...       0.0       0.0       0.0       0.0       0.0   \n",
      "29        0.0  ...       0.0       0.0       0.0       0.0       0.0   \n",
      "...       ...  ...       ...       ...       ...       ...       ...   \n",
      "27970     0.0  ...       0.0       0.0       0.0       0.0       0.0   \n",
      "27971     0.0  ...       0.0       0.0       0.0       0.0       0.0   \n",
      "27972     0.0  ...       0.0       0.0       0.0       0.0       0.0   \n",
      "27973     0.0  ...       0.0       0.0       0.0       0.0       0.0   \n",
      "27974     0.0  ...       0.0       0.0       0.0       0.0       0.0   \n",
      "27975     0.0  ...       0.0       0.0       0.0       0.0       0.0   \n",
      "27976     0.0  ...       0.0       0.0       0.0       0.0       0.0   \n",
      "27977     0.0  ...       0.0       0.0       0.0       0.0       0.0   \n",
      "27978     0.0  ...       0.0       0.0       0.0       0.0       0.0   \n",
      "27979     0.0  ...       0.0       0.0       0.0       0.0       0.0   \n",
      "27980     0.0  ...       0.0       0.0       0.0       0.0       0.0   \n",
      "27981     0.0  ...       0.0       0.0       0.0       0.0       0.0   \n",
      "27982     0.0  ...       0.0       0.0       0.0       0.0       0.0   \n",
      "27983     0.0  ...       0.0       0.0       0.0       0.0       0.0   \n",
      "27984     0.0  ...       0.0       0.0       0.0       0.0       0.0   \n",
      "27985     0.0  ...       0.0       0.0       0.0       0.0       0.0   \n",
      "27986     0.0  ...       0.0       0.0       0.0       0.0       0.0   \n",
      "27987     0.0  ...       0.0       0.0       0.0       0.0       0.0   \n",
      "27988     0.0  ...       0.0       0.0       0.0       0.0       0.0   \n",
      "27989     0.0  ...       0.0       0.0       0.0       0.0       0.0   \n",
      "27990     0.0  ...       0.0       0.0       0.0       0.0       0.0   \n",
      "27991     0.0  ...       0.0       0.0       0.0       0.0       0.0   \n",
      "27992     0.0  ...       0.0       0.0       0.0       0.0       0.0   \n",
      "27993     0.0  ...       0.0       0.0       0.0       0.0       0.0   \n",
      "27994     0.0  ...       0.0       0.0       0.0       0.0       0.0   \n",
      "27995     0.0  ...       0.0       0.0       0.0       0.0       0.0   \n",
      "27996     0.0  ...       0.0       0.0       0.0       0.0       0.0   \n",
      "27997     0.0  ...       0.0       0.0       0.0       0.0       0.0   \n",
      "27998     0.0  ...       0.0       0.0       0.0       0.0       0.0   \n",
      "27999     0.0  ...       0.0       0.0       0.0       0.0       0.0   \n",
      "\n",
      "       pixel779  pixel780  pixel781  pixel782  pixel783  \n",
      "0           0.0       0.0       0.0       0.0       0.0  \n",
      "1           0.0       0.0       0.0       0.0       0.0  \n",
      "2           0.0       0.0       0.0       0.0       0.0  \n",
      "3           0.0       0.0       0.0       0.0       0.0  \n",
      "4           0.0       0.0       0.0       0.0       0.0  \n",
      "5           0.0       0.0       0.0       0.0       0.0  \n",
      "6           0.0       0.0       0.0       0.0       0.0  \n",
      "7           0.0       0.0       0.0       0.0       0.0  \n",
      "8           0.0       0.0       0.0       0.0       0.0  \n",
      "9           0.0       0.0       0.0       0.0       0.0  \n",
      "10          0.0       0.0       0.0       0.0       0.0  \n",
      "11          0.0       0.0       0.0       0.0       0.0  \n",
      "12          0.0       0.0       0.0       0.0       0.0  \n",
      "13          0.0       0.0       0.0       0.0       0.0  \n",
      "14          0.0       0.0       0.0       0.0       0.0  \n",
      "15          0.0       0.0       0.0       0.0       0.0  \n",
      "16          0.0       0.0       0.0       0.0       0.0  \n",
      "17          0.0       0.0       0.0       0.0       0.0  \n",
      "18          0.0       0.0       0.0       0.0       0.0  \n",
      "19          0.0       0.0       0.0       0.0       0.0  \n",
      "20          0.0       0.0       0.0       0.0       0.0  \n",
      "21          0.0       0.0       0.0       0.0       0.0  \n",
      "22          0.0       0.0       0.0       0.0       0.0  \n",
      "23          0.0       0.0       0.0       0.0       0.0  \n",
      "24          0.0       0.0       0.0       0.0       0.0  \n",
      "25          0.0       0.0       0.0       0.0       0.0  \n",
      "26          0.0       0.0       0.0       0.0       0.0  \n",
      "27          0.0       0.0       0.0       0.0       0.0  \n",
      "28          0.0       0.0       0.0       0.0       0.0  \n",
      "29          0.0       0.0       0.0       0.0       0.0  \n",
      "...         ...       ...       ...       ...       ...  \n",
      "27970       0.0       0.0       0.0       0.0       0.0  \n",
      "27971       0.0       0.0       0.0       0.0       0.0  \n",
      "27972       0.0       0.0       0.0       0.0       0.0  \n",
      "27973       0.0       0.0       0.0       0.0       0.0  \n",
      "27974       0.0       0.0       0.0       0.0       0.0  \n",
      "27975       0.0       0.0       0.0       0.0       0.0  \n",
      "27976       0.0       0.0       0.0       0.0       0.0  \n",
      "27977       0.0       0.0       0.0       0.0       0.0  \n",
      "27978       0.0       0.0       0.0       0.0       0.0  \n",
      "27979       0.0       0.0       0.0       0.0       0.0  \n",
      "27980       0.0       0.0       0.0       0.0       0.0  \n",
      "27981       0.0       0.0       0.0       0.0       0.0  \n",
      "27982       0.0       0.0       0.0       0.0       0.0  \n",
      "27983       0.0       0.0       0.0       0.0       0.0  \n",
      "27984       0.0       0.0       0.0       0.0       0.0  \n",
      "27985       0.0       0.0       0.0       0.0       0.0  \n",
      "27986       0.0       0.0       0.0       0.0       0.0  \n",
      "27987       0.0       0.0       0.0       0.0       0.0  \n",
      "27988       0.0       0.0       0.0       0.0       0.0  \n",
      "27989       0.0       0.0       0.0       0.0       0.0  \n",
      "27990       0.0       0.0       0.0       0.0       0.0  \n",
      "27991       0.0       0.0       0.0       0.0       0.0  \n",
      "27992       0.0       0.0       0.0       0.0       0.0  \n",
      "27993       0.0       0.0       0.0       0.0       0.0  \n",
      "27994       0.0       0.0       0.0       0.0       0.0  \n",
      "27995       0.0       0.0       0.0       0.0       0.0  \n",
      "27996       0.0       0.0       0.0       0.0       0.0  \n",
      "27997       0.0       0.0       0.0       0.0       0.0  \n",
      "27998       0.0       0.0       0.0       0.0       0.0  \n",
      "27999       0.0       0.0       0.0       0.0       0.0  \n",
      "\n",
      "[28000 rows x 784 columns]\n"
     ]
    }
   ],
   "source": [
    "# print(test)"
   ]
  },
  {
   "cell_type": "code",
   "execution_count": 24,
   "metadata": {
    "scrolled": true
   },
   "outputs": [
    {
     "name": "stdout",
     "output_type": "stream",
     "text": [
      "[[[[0.]\n",
      "   [0.]\n",
      "   [0.]\n",
      "   ...\n",
      "   [0.]\n",
      "   [0.]\n",
      "   [0.]]\n",
      "\n",
      "  [[0.]\n",
      "   [0.]\n",
      "   [0.]\n",
      "   ...\n",
      "   [0.]\n",
      "   [0.]\n",
      "   [0.]]\n",
      "\n",
      "  [[0.]\n",
      "   [0.]\n",
      "   [0.]\n",
      "   ...\n",
      "   [0.]\n",
      "   [0.]\n",
      "   [0.]]\n",
      "\n",
      "  ...\n",
      "\n",
      "  [[0.]\n",
      "   [0.]\n",
      "   [0.]\n",
      "   ...\n",
      "   [0.]\n",
      "   [0.]\n",
      "   [0.]]\n",
      "\n",
      "  [[0.]\n",
      "   [0.]\n",
      "   [0.]\n",
      "   ...\n",
      "   [0.]\n",
      "   [0.]\n",
      "   [0.]]\n",
      "\n",
      "  [[0.]\n",
      "   [0.]\n",
      "   [0.]\n",
      "   ...\n",
      "   [0.]\n",
      "   [0.]\n",
      "   [0.]]]\n",
      "\n",
      "\n",
      " [[[0.]\n",
      "   [0.]\n",
      "   [0.]\n",
      "   ...\n",
      "   [0.]\n",
      "   [0.]\n",
      "   [0.]]\n",
      "\n",
      "  [[0.]\n",
      "   [0.]\n",
      "   [0.]\n",
      "   ...\n",
      "   [0.]\n",
      "   [0.]\n",
      "   [0.]]\n",
      "\n",
      "  [[0.]\n",
      "   [0.]\n",
      "   [0.]\n",
      "   ...\n",
      "   [0.]\n",
      "   [0.]\n",
      "   [0.]]\n",
      "\n",
      "  ...\n",
      "\n",
      "  [[0.]\n",
      "   [0.]\n",
      "   [0.]\n",
      "   ...\n",
      "   [0.]\n",
      "   [0.]\n",
      "   [0.]]\n",
      "\n",
      "  [[0.]\n",
      "   [0.]\n",
      "   [0.]\n",
      "   ...\n",
      "   [0.]\n",
      "   [0.]\n",
      "   [0.]]\n",
      "\n",
      "  [[0.]\n",
      "   [0.]\n",
      "   [0.]\n",
      "   ...\n",
      "   [0.]\n",
      "   [0.]\n",
      "   [0.]]]\n",
      "\n",
      "\n",
      " [[[0.]\n",
      "   [0.]\n",
      "   [0.]\n",
      "   ...\n",
      "   [0.]\n",
      "   [0.]\n",
      "   [0.]]\n",
      "\n",
      "  [[0.]\n",
      "   [0.]\n",
      "   [0.]\n",
      "   ...\n",
      "   [0.]\n",
      "   [0.]\n",
      "   [0.]]\n",
      "\n",
      "  [[0.]\n",
      "   [0.]\n",
      "   [0.]\n",
      "   ...\n",
      "   [0.]\n",
      "   [0.]\n",
      "   [0.]]\n",
      "\n",
      "  ...\n",
      "\n",
      "  [[0.]\n",
      "   [0.]\n",
      "   [0.]\n",
      "   ...\n",
      "   [0.]\n",
      "   [0.]\n",
      "   [0.]]\n",
      "\n",
      "  [[0.]\n",
      "   [0.]\n",
      "   [0.]\n",
      "   ...\n",
      "   [0.]\n",
      "   [0.]\n",
      "   [0.]]\n",
      "\n",
      "  [[0.]\n",
      "   [0.]\n",
      "   [0.]\n",
      "   ...\n",
      "   [0.]\n",
      "   [0.]\n",
      "   [0.]]]\n",
      "\n",
      "\n",
      " ...\n",
      "\n",
      "\n",
      " [[[0.]\n",
      "   [0.]\n",
      "   [0.]\n",
      "   ...\n",
      "   [0.]\n",
      "   [0.]\n",
      "   [0.]]\n",
      "\n",
      "  [[0.]\n",
      "   [0.]\n",
      "   [0.]\n",
      "   ...\n",
      "   [0.]\n",
      "   [0.]\n",
      "   [0.]]\n",
      "\n",
      "  [[0.]\n",
      "   [0.]\n",
      "   [0.]\n",
      "   ...\n",
      "   [0.]\n",
      "   [0.]\n",
      "   [0.]]\n",
      "\n",
      "  ...\n",
      "\n",
      "  [[0.]\n",
      "   [0.]\n",
      "   [0.]\n",
      "   ...\n",
      "   [0.]\n",
      "   [0.]\n",
      "   [0.]]\n",
      "\n",
      "  [[0.]\n",
      "   [0.]\n",
      "   [0.]\n",
      "   ...\n",
      "   [0.]\n",
      "   [0.]\n",
      "   [0.]]\n",
      "\n",
      "  [[0.]\n",
      "   [0.]\n",
      "   [0.]\n",
      "   ...\n",
      "   [0.]\n",
      "   [0.]\n",
      "   [0.]]]\n",
      "\n",
      "\n",
      " [[[0.]\n",
      "   [0.]\n",
      "   [0.]\n",
      "   ...\n",
      "   [0.]\n",
      "   [0.]\n",
      "   [0.]]\n",
      "\n",
      "  [[0.]\n",
      "   [0.]\n",
      "   [0.]\n",
      "   ...\n",
      "   [0.]\n",
      "   [0.]\n",
      "   [0.]]\n",
      "\n",
      "  [[0.]\n",
      "   [0.]\n",
      "   [0.]\n",
      "   ...\n",
      "   [0.]\n",
      "   [0.]\n",
      "   [0.]]\n",
      "\n",
      "  ...\n",
      "\n",
      "  [[0.]\n",
      "   [0.]\n",
      "   [0.]\n",
      "   ...\n",
      "   [0.]\n",
      "   [0.]\n",
      "   [0.]]\n",
      "\n",
      "  [[0.]\n",
      "   [0.]\n",
      "   [0.]\n",
      "   ...\n",
      "   [0.]\n",
      "   [0.]\n",
      "   [0.]]\n",
      "\n",
      "  [[0.]\n",
      "   [0.]\n",
      "   [0.]\n",
      "   ...\n",
      "   [0.]\n",
      "   [0.]\n",
      "   [0.]]]\n",
      "\n",
      "\n",
      " [[[0.]\n",
      "   [0.]\n",
      "   [0.]\n",
      "   ...\n",
      "   [0.]\n",
      "   [0.]\n",
      "   [0.]]\n",
      "\n",
      "  [[0.]\n",
      "   [0.]\n",
      "   [0.]\n",
      "   ...\n",
      "   [0.]\n",
      "   [0.]\n",
      "   [0.]]\n",
      "\n",
      "  [[0.]\n",
      "   [0.]\n",
      "   [0.]\n",
      "   ...\n",
      "   [0.]\n",
      "   [0.]\n",
      "   [0.]]\n",
      "\n",
      "  ...\n",
      "\n",
      "  [[0.]\n",
      "   [0.]\n",
      "   [0.]\n",
      "   ...\n",
      "   [0.]\n",
      "   [0.]\n",
      "   [0.]]\n",
      "\n",
      "  [[0.]\n",
      "   [0.]\n",
      "   [0.]\n",
      "   ...\n",
      "   [0.]\n",
      "   [0.]\n",
      "   [0.]]\n",
      "\n",
      "  [[0.]\n",
      "   [0.]\n",
      "   [0.]\n",
      "   ...\n",
      "   [0.]\n",
      "   [0.]\n",
      "   [0.]]]]\n"
     ]
    }
   ],
   "source": [
    "test = test.values.reshape(-1, 28, 28, 1)\n",
    "# print(test)"
   ]
  },
  {
   "cell_type": "code",
   "execution_count": 25,
   "metadata": {
    "scrolled": true
   },
   "outputs": [
    {
     "name": "stdout",
     "output_type": "stream",
     "text": [
      "Epoch 1/5\n",
      "42000/42000 [==============================] - 6s 153us/sample - loss: 0.2481 - acc: 0.9274\n",
      "Epoch 2/5\n",
      "42000/42000 [==============================] - 6s 149us/sample - loss: 0.1068 - acc: 0.9682\n",
      "Epoch 3/5\n",
      "42000/42000 [==============================] - 6s 147us/sample - loss: 0.0734 - acc: 0.9768\n",
      "Epoch 4/5\n",
      "42000/42000 [==============================] - 6s 151us/sample - loss: 0.0567 - acc: 0.9815\n",
      "Epoch 5/5\n",
      "42000/42000 [==============================] - 6s 150us/sample - loss: 0.0446 - acc: 0.9857\n"
     ]
    },
    {
     "data": {
      "text/plain": [
       "<tensorflow.python.keras.callbacks.History at 0x1c0459f7630>"
      ]
     },
     "execution_count": 25,
     "metadata": {},
     "output_type": "execute_result"
    }
   ],
   "source": [
    "# model = tf.keras.models.Sequential([\n",
    "#     tf.keras.layers.Flatten(input_shape=(28, 28, 1)),\n",
    "#     tf.keras.layers.Dense(512, activation=tf.nn.relu),\n",
    "#     tf.keras.layers.Dropout(0.2),\n",
    "#     tf.keras.layers.Dense(10, activation=tf.nn.softmax)\n",
    "# ])\n",
    "# model.compile(optimizer='adam', loss='sparse_categorical_crossentropy', metrics=['accuracy'])\n",
    "# model.fit(X_train, Y_train, epochs=5)"
   ]
  },
  {
   "cell_type": "code",
   "execution_count": 26,
   "metadata": {},
   "outputs": [],
   "source": [
    "# Encode labels to one hot vectors (ex : 2 -> [0,0,1,0,0,0,0,0,0,0])\n",
    "Y_train = to_categorical(Y_train, num_classes = 10)"
   ]
  },
  {
   "cell_type": "code",
   "execution_count": 27,
   "metadata": {},
   "outputs": [],
   "source": [
    "# Set the random seed\n",
    "random_seed = 2"
   ]
  },
  {
   "cell_type": "code",
   "execution_count": 28,
   "metadata": {},
   "outputs": [],
   "source": [
    "# Split the train and the validation set for the fitting\n",
    "X_train, X_val, Y_train, Y_val = train_test_split(X_train, Y_train, test_size = 0.1, random_state=random_seed)"
   ]
  },
  {
   "cell_type": "code",
   "execution_count": 35,
   "metadata": {},
   "outputs": [
    {
     "data": {
      "image/png": "[encoded data removed]",
      "text/plain": [
       "<Figure size 432x288 with 1 Axes>"
      ]
     },
     "metadata": {
      "needs_background": "light"
     },
     "output_type": "display_data"
    }
   ],
   "source": [
    "g = plt.imshow(X_train[0][:,:,0])"
   ]
  },
  {
   "cell_type": "code",
   "execution_count": 36,
   "metadata": {},
   "outputs": [
    {
     "name": "stderr",
     "output_type": "stream",
     "text": [
      "W0803 22:26:27.208789  7408 deprecation_wrapper.py:119] From C:\\Users\\danie\\Anaconda3\\lib\\site-packages\\keras\\backend\\tensorflow_backend.py:74: The name tf.get_default_graph is deprecated. Please use tf.compat.v1.get_default_graph instead.\n",
      "\n",
      "W0803 22:26:27.210788  7408 deprecation_wrapper.py:119] From C:\\Users\\danie\\Anaconda3\\lib\\site-packages\\keras\\backend\\tensorflow_backend.py:517: The name tf.placeholder is deprecated. Please use tf.compat.v1.placeholder instead.\n",
      "\n",
      "W0803 22:26:27.219782  7408 deprecation_wrapper.py:119] From C:\\Users\\danie\\Anaconda3\\lib\\site-packages\\keras\\backend\\tensorflow_backend.py:4138: The name tf.random_uniform is deprecated. Please use tf.random.uniform instead.\n",
      "\n",
      "W0803 22:26:27.259759  7408 deprecation_wrapper.py:119] From C:\\Users\\danie\\Anaconda3\\lib\\site-packages\\keras\\backend\\tensorflow_backend.py:3976: The name tf.nn.max_pool is deprecated. Please use tf.nn.max_pool2d instead.\n",
      "\n",
      "W0803 22:26:27.264757  7408 deprecation_wrapper.py:119] From C:\\Users\\danie\\Anaconda3\\lib\\site-packages\\keras\\backend\\tensorflow_backend.py:133: The name tf.placeholder_with_default is deprecated. Please use tf.compat.v1.placeholder_with_default instead.\n",
      "\n",
      "W0803 22:26:27.274752  7408 deprecation.py:506] From C:\\Users\\danie\\Anaconda3\\lib\\site-packages\\keras\\backend\\tensorflow_backend.py:3445: calling dropout (from tensorflow.python.ops.nn_ops) with keep_prob is deprecated and will be removed in a future version.\n",
      "Instructions for updating:\n",
      "Please use `rate` instead of `keep_prob`. Rate should be set to `rate = 1 - keep_prob`.\n"
     ]
    }
   ],
   "source": [
    "# Set the CNN model \n",
    "# my CNN architechture is In -> [[Conv2D->relu]*2 -> MaxPool2D -> Dropout]*2 -> Flatten -> Dense -> Dropout -> Out\n",
    "\n",
    "model = Sequential()\n",
    "\n",
    "model.add(Conv2D(filters = 32, kernel_size = (5,5),padding = 'Same', \n",
    "                 activation ='relu', input_shape = (28,28,1)))\n",
    "model.add(Conv2D(filters = 32, kernel_size = (5,5),padding = 'Same', \n",
    "                 activation ='relu'))\n",
    "model.add(MaxPool2D(pool_size=(2,2)))\n",
    "model.add(Dropout(0.25))\n",
    "\n",
    "\n",
    "model.add(Conv2D(filters = 64, kernel_size = (3,3),padding = 'Same', \n",
    "                 activation ='relu'))\n",
    "model.add(Conv2D(filters = 64, kernel_size = (3,3),padding = 'Same', \n",
    "                 activation ='relu'))\n",
    "model.add(MaxPool2D(pool_size=(2,2), strides=(2,2)))\n",
    "model.add(Dropout(0.25))\n",
    "\n",
    "\n",
    "model.add(Flatten())\n",
    "model.add(Dense(256, activation = \"relu\"))\n",
    "model.add(Dropout(0.5))\n",
    "model.add(Dense(10, activation = \"softmax\"))"
   ]
  },
  {
   "cell_type": "code",
   "execution_count": 39,
   "metadata": {},
   "outputs": [],
   "source": [
    "# Define the optimizer\n",
    "optimizer = RMSprop(lr=0.001, rho=0.9, epsilon=1e-08, decay=0.0)"
   ]
  },
  {
   "cell_type": "code",
   "execution_count": 40,
   "metadata": {},
   "outputs": [
    {
     "name": "stderr",
     "output_type": "stream",
     "text": [
      "W0803 22:28:03.451342  7408 deprecation_wrapper.py:119] From C:\\Users\\danie\\Anaconda3\\lib\\site-packages\\keras\\optimizers.py:790: The name tf.train.Optimizer is deprecated. Please use tf.compat.v1.train.Optimizer instead.\n",
      "\n",
      "W0803 22:28:03.460336  7408 deprecation_wrapper.py:119] From C:\\Users\\danie\\Anaconda3\\lib\\site-packages\\keras\\backend\\tensorflow_backend.py:3295: The name tf.log is deprecated. Please use tf.math.log instead.\n",
      "\n"
     ]
    }
   ],
   "source": [
    "# Compile the model\n",
    "model.compile(optimizer = optimizer , loss = \"categorical_crossentropy\", metrics=[\"accuracy\"])"
   ]
  },
  {
   "cell_type": "code",
   "execution_count": 41,
   "metadata": {},
   "outputs": [],
   "source": [
    "# Set a learning rate annealer\n",
    "learning_rate_reduction = ReduceLROnPlateau(monitor='val_acc', \n",
    "                                            patience=3, \n",
    "                                            verbose=1, \n",
    "                                            factor=0.5, \n",
    "                                            min_lr=0.00001)"
   ]
  },
  {
   "cell_type": "code",
   "execution_count": 42,
   "metadata": {},
   "outputs": [],
   "source": [
    "epochs = 1 # Turn epochs to 30 to get 0.9967 accuracy\n",
    "batch_size = 86"
   ]
  },
  {
   "cell_type": "code",
   "execution_count": 43,
   "metadata": {},
   "outputs": [],
   "source": [
    "# With data augmentation to prevent overfitting (accuracy 0.99286)\n",
    "\n",
    "datagen = ImageDataGenerator(\n",
    "        featurewise_center=False,  # set input mean to 0 over the dataset\n",
    "        samplewise_center=False,  # set each sample mean to 0\n",
    "        featurewise_std_normalization=False,  # divide inputs by std of the dataset\n",
    "        samplewise_std_normalization=False,  # divide each input by its std\n",
    "        zca_whitening=False,  # apply ZCA whitening\n",
    "        rotation_range=10,  # randomly rotate images in the range (degrees, 0 to 180)\n",
    "        zoom_range = 0.1, # Randomly zoom image \n",
    "        width_shift_range=0.1,  # randomly shift images horizontally (fraction of total width)\n",
    "        height_shift_range=0.1,  # randomly shift images vertically (fraction of total height)\n",
    "        horizontal_flip=False,  # randomly flip images\n",
    "        vertical_flip=False)  # randomly flip images\n",
    "\n",
    "\n",
    "datagen.fit(X_train)"
   ]
  },
  {
   "cell_type": "code",
   "execution_count": 45,
   "metadata": {},
   "outputs": [
    {
     "name": "stderr",
     "output_type": "stream",
     "text": [
      "W0803 22:28:48.421877  7408 deprecation.py:323] From C:\\Users\\danie\\Anaconda3\\lib\\site-packages\\tensorflow\\python\\ops\\math_grad.py:1250: add_dispatch_support.<locals>.wrapper (from tensorflow.python.ops.array_ops) is deprecated and will be removed in a future version.\n",
      "Instructions for updating:\n",
      "Use tf.where in 2.0, which has the same broadcast rule as np.where\n"
     ]
    },
    {
     "name": "stdout",
     "output_type": "stream",
     "text": [
      "Epoch 1/1\n",
      " - 161s - loss: 0.3976 - acc: 0.8750 - val_loss: 0.0638 - val_acc: 0.9805\n"
     ]
    }
   ],
   "source": [
    " #Fit the model\n",
    "history = model.fit_generator(datagen.flow(X_train,Y_train, batch_size=batch_size),\n",
    "                              epochs = epochs, validation_data = (X_val,Y_val),\n",
    "                              verbose = 2, steps_per_epoch=X_train.shape[0] // batch_size\n",
    "                              , callbacks=[learning_rate_reduction])"
   ]
  },
  {
   "cell_type": "code",
   "execution_count": 46,
   "metadata": {},
   "outputs": [
    {
     "data": {
      "image/png": "[encoded data removed]",
      "text/plain": [
       "<Figure size 432x288 with 2 Axes>"
      ]
     },
     "metadata": {
      "needs_background": "light"
     },
     "output_type": "display_data"
    }
   ],
   "source": [
    "# Plot the loss and accuracy curves for training and validation \n",
    "fig, ax = plt.subplots(2,1)\n",
    "ax[0].plot(history.history['loss'], color='b', label=\"Training loss\")\n",
    "ax[0].plot(history.history['val_loss'], color='r', label=\"validation loss\",axes =ax[0])\n",
    "legend = ax[0].legend(loc='best', shadow=True)\n",
    "\n",
    "ax[1].plot(history.history['acc'], color='b', label=\"Training accuracy\")\n",
    "ax[1].plot(history.history['val_acc'], color='r',label=\"Validation accuracy\")\n",
    "legend = ax[1].legend(loc='best', shadow=True)"
   ]
  },
  {
   "cell_type": "code",
   "execution_count": 47,
   "metadata": {},
   "outputs": [
    {
     "data": {
      "image/png": "[encoded data removed]",
      "text/plain": [
       "<Figure size 432x288 with 2 Axes>"
      ]
     },
     "metadata": {
      "needs_background": "light"
     },
     "output_type": "display_data"
    }
   ],
   "source": [
    "# Look at confusion matrix \n",
    "\n",
    "def plot_confusion_matrix(cm, classes,\n",
    "                          normalize=False,\n",
    "                          title='Confusion matrix',\n",
    "                          cmap=plt.cm.Blues):\n",
    "    \"\"\"\n",
    "    This function prints and plots the confusion matrix.\n",
    "    Normalization can be applied by setting `normalize=True`.\n",
    "    \"\"\"\n",
    "    plt.imshow(cm, interpolation='nearest', cmap=cmap)\n",
    "    plt.title(title)\n",
    "    plt.colorbar()\n",
    "    tick_marks = np.arange(len(classes))\n",
    "    plt.xticks(tick_marks, classes, rotation=45)\n",
    "    plt.yticks(tick_marks, classes)\n",
    "\n",
    "    if normalize:\n",
    "        cm = cm.astype('float') / cm.sum(axis=1)[:, np.newaxis]\n",
    "\n",
    "    thresh = cm.max() / 2.\n",
    "    for i, j in itertools.product(range(cm.shape[0]), range(cm.shape[1])):\n",
    "        plt.text(j, i, cm[i, j],\n",
    "                 horizontalalignment=\"center\",\n",
    "                 color=\"white\" if cm[i, j] > thresh else \"black\")\n",
    "\n",
    "    plt.tight_layout()\n",
    "    plt.ylabel('True label')\n",
    "    plt.xlabel('Predicted label')\n",
    "\n",
    "# Predict the values from the validation dataset\n",
    "Y_pred = model.predict(X_val)\n",
    "# Convert predictions classes to one hot vectors \n",
    "Y_pred_classes = np.argmax(Y_pred,axis = 1) \n",
    "# Convert validation observations to one hot vectors\n",
    "Y_true = np.argmax(Y_val,axis = 1) \n",
    "# compute the confusion matrix\n",
    "confusion_mtx = confusion_matrix(Y_true, Y_pred_classes) \n",
    "# plot the confusion matrix\n",
    "plot_confusion_matrix(confusion_mtx, classes = range(10)) "
   ]
  },
  {
   "cell_type": "code",
   "execution_count": null,
   "metadata": {},
   "outputs": [],
   "source": []
  }
 ],
 "metadata": {
  "kernelspec": {
   "display_name": "Python 3",
   "language": "python",
   "name": "python3"
  },
  "language_info": {
   "codemirror_mode": {
    "name": "ipython",
    "version": 3
   },
   "file_extension": ".py",
   "mimetype": "text/x-python",
   "name": "python",
   "nbconvert_exporter": "python",
   "pygments_lexer": "ipython3",
   "version": "3.7.3"
  }
 },
 "nbformat": 4,
 "nbformat_minor": 2
}
